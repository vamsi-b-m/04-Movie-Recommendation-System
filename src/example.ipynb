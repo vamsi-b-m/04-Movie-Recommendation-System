{
 "cells": [
  {
   "cell_type": "code",
   "execution_count": 1,
   "metadata": {},
   "outputs": [
    {
     "ename": "TypeError",
     "evalue": "unsupported operand type(s) for /: 'str' and 'str'",
     "output_type": "error",
     "traceback": [
      "\u001b[0;31m---------------------------------------------------------------------------\u001b[0m",
      "\u001b[0;31mTypeError\u001b[0m                                 Traceback (most recent call last)",
      "Cell \u001b[0;32mIn[1], line 9\u001b[0m\n\u001b[1;32m      7\u001b[0m api\u001b[38;5;241m.\u001b[39mauthenticate()\n\u001b[1;32m      8\u001b[0m dataset_url \u001b[38;5;241m=\u001b[39m DATA_INGESTION_KAGGLE_DATASET_URL_KEY\n\u001b[0;32m----> 9\u001b[0m download_path \u001b[38;5;241m=\u001b[39m \u001b[43mDATA_DIR_KEY\u001b[49m\u001b[38;5;241;43m/\u001b[39;49m\u001b[43mDATA_INGESTION_ZIP_DATA_DIR_KEY\u001b[49m\n\u001b[1;32m     10\u001b[0m api\u001b[38;5;241m.\u001b[39mdataset_download_files(dataset\u001b[38;5;241m=\u001b[39mdataset_url, path\u001b[38;5;241m=\u001b[39mdownload_path, unzip\u001b[38;5;241m=\u001b[39m\u001b[38;5;28;01mFalse\u001b[39;00m)\n",
      "\u001b[0;31mTypeError\u001b[0m: unsupported operand type(s) for /: 'str' and 'str'"
     ]
    }
   ],
   "source": [
    "from constant import *\n",
    "\n",
    "import os\n",
    "from kaggle.api.kaggle_api_extended import KaggleApi\n",
    "\n",
    "api = KaggleApi()\n",
    "api.authenticate()\n",
    "dataset_url = DATA_INGESTION_KAGGLE_DATASET_URL_KEY\n",
    "download_path = os.   DATA_DIR_KEY/DATA_INGESTION_ZIP_DATA_DIR_KEY\n",
    "api.dataset_download_files(dataset=dataset_url, path=download_path, unzip=False)"
   ]
  },
  {
   "cell_type": "code",
   "execution_count": null,
   "metadata": {},
   "outputs": [],
   "source": []
  }
 ],
 "metadata": {
  "kernelspec": {
   "display_name": "venv",
   "language": "python",
   "name": "python3"
  },
  "language_info": {
   "codemirror_mode": {
    "name": "ipython",
    "version": 3
   },
   "file_extension": ".py",
   "mimetype": "text/x-python",
   "name": "python",
   "nbconvert_exporter": "python",
   "pygments_lexer": "ipython3",
   "version": "3.11.6"
  }
 },
 "nbformat": 4,
 "nbformat_minor": 2
}
